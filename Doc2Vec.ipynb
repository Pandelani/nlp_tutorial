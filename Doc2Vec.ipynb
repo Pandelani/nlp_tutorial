{
 "cells": [
  {
   "cell_type": "markdown",
   "metadata": {},
   "source": [
    "# Doc2Vec With GenSim\n",
    "\n",
    "Or, creating fixed size vectors from arbitrary length paragraphs."
   ]
  },
  {
   "cell_type": "code",
   "execution_count": 13,
   "metadata": {},
   "outputs": [
    {
     "name": "stderr",
     "output_type": "stream",
     "text": [
      "Using TensorFlow backend.\n"
     ]
    }
   ],
   "source": [
    "import nltk\n",
    "import random\n",
    "from random import shuffle\n",
    "from nltk.corpus import reuters\n",
    "from nltk.tokenize import word_tokenize\n",
    "from gensim.models import Doc2Vec\n",
    "from gensim.models.doc2vec import TaggedDocument\n",
    "from keras.callbacks import ModelCheckpoint\n",
    "from keras.layers import Dense, Dropout\n",
    "from keras.models import Sequential\n",
    "from keras.optimizers import Adam"
   ]
  },
  {
   "cell_type": "code",
   "execution_count": 2,
   "metadata": {
    "scrolled": true
   },
   "outputs": [
    {
     "name": "stdout",
     "output_type": "stream",
     "text": [
      "[nltk_data] Downloading package reuters to ./...\n",
      "[nltk_data]   Package reuters is already up-to-date!\n",
      "[nltk_data] Downloading package punkt to ./...\n",
      "[nltk_data]   Package punkt is already up-to-date!\n"
     ]
    }
   ],
   "source": [
    "if not nltk.download('reuters', download_dir=\"./\") or not nltk.download('punkt', download_dir=\"./\"):\n",
    "    print(\"Download Failed\")"
   ]
  },
  {
   "cell_type": "code",
   "execution_count": 3,
   "metadata": {
    "collapsed": true
   },
   "outputs": [],
   "source": [
    "seed = 42\n",
    "random.seed(seed)"
   ]
  },
  {
   "cell_type": "markdown",
   "metadata": {},
   "source": [
    "## Exploring The Reuters Dataset"
   ]
  },
  {
   "cell_type": "code",
   "execution_count": 4,
   "metadata": {},
   "outputs": [
    {
     "name": "stdout",
     "output_type": "stream",
     "text": [
      "ID: test/14829\n",
      "\n",
      "Tags: crude, nat-gas\n",
      "\n",
      "Article: JAPAN TO REVISE LONG-TERM ENERGY DEMAND DOWNWARDS\n",
      "  The Ministry of International Trade and\n",
      "  Industry (MITI) will revise its long-term energy supply/demand\n",
      "  outlook by August to meet a forecast downtrend in Japanese\n",
      "  energy demand, ministry officials said.\n",
      "      MITI is expected to lower the projection for primary energy\n",
      "  supplies in the year 2000 to 550 mln kilolitres (kl) from 600\n",
      "  mln, they said.\n",
      "      The decision follows the emergence of structural changes in\n",
      "  Japanese industry following the rise in the value of the yen\n",
      "  and a decline in domestic electric power demand.\n",
      "      MITI is planning to work out a revised energy supply/demand\n",
      "  outlook through deliberations of committee meetings of the\n",
      "  Agency of Natural Resources and Energy, the officials said.\n",
      "      They said MITI will also review the breakdown of energy\n",
      "  supply sources, including oil, nuclear, coal and natural gas.\n",
      "      Nuclear energy provided the bulk of Japan's electric power\n",
      "  in the fiscal year ended March 31, supplying an estimated 27\n",
      "  pct on a kilowatt/hour basis, followed by oil (23 pct) and\n",
      "  liquefied natural gas (21 pct), they noted.\n",
      "  \n",
      "\n",
      "\n"
     ]
    }
   ],
   "source": [
    "article_index = 2\n",
    "\n",
    "# The ID for the article we are looking at.\n",
    "article_id = reuters.fileids()[article_index]\n",
    "\n",
    "# Get the article as a list of words (and punctuation)\n",
    "article_text = reuters.raw(article_id)\n",
    "\n",
    "# Get the tags associated with the article.\n",
    "article_tags = reuters.categories(article_id)\n",
    "\n",
    "print(\"ID:\", article_id)\n",
    "print(\"\\nTags:\", \", \".join(article_tags))\n",
    "print(\"\\nArticle:\", article_text)"
   ]
  },
  {
   "cell_type": "markdown",
   "metadata": {},
   "source": [
    "## Creating The Training Dataset"
   ]
  },
  {
   "cell_type": "code",
   "execution_count": 5,
   "metadata": {},
   "outputs": [],
   "source": [
    "tagged_documents = []\n",
    "\n",
    "for i, file_id in enumerate(reuters.fileids()):\n",
    "    document_words = reuters.raw(file_id)\n",
    "    document_tags = reuters.categories(file_id)\n",
    "    tagged_document = TaggedDocument(words=word_tokenize(document_words),\n",
    "                                     tags=document_tags)\n",
    "    tagged_documents.append(tagged_document)\n",
    "    \n",
    "shuffle(tagged_documents)"
   ]
  },
  {
   "cell_type": "markdown",
   "metadata": {},
   "source": [
    "## Create The Doc2Vec Model"
   ]
  },
  {
   "cell_type": "code",
   "execution_count": 9,
   "metadata": {},
   "outputs": [],
   "source": [
    "doc2vec_dimensions    = 300\n",
    "ignore_word_count     = 2\n",
    "amount_doc2vec_epochs = 100\n",
    "amount_train_threads  = 12\n",
    "doc2vec_location      = \"./doc2vec_model.bin\"\n",
    "\n",
    "doc2vec = Doc2Vec(vector_size=doc2vec_dimensions, \n",
    "                  min_count=ignore_word_count, \n",
    "                  seed=seed,\n",
    "                  workers=amount_train_threads)"
   ]
  },
  {
   "cell_type": "code",
   "execution_count": 10,
   "metadata": {},
   "outputs": [],
   "source": [
    "doc2vec.build_vocab(tagged_documents)"
   ]
  },
  {
   "cell_type": "code",
   "execution_count": 11,
   "metadata": {
    "scrolled": true
   },
   "outputs": [],
   "source": [
    "doc2vec.train(tagged_documents, epochs=amount_doc2vec_epochs, total_examples=doc2vec.corpus_count)"
   ]
  },
  {
   "cell_type": "code",
   "execution_count": 12,
   "metadata": {},
   "outputs": [],
   "source": [
    "doc2vec.save(doc2vec_location)"
   ]
  },
  {
   "cell_type": "markdown",
   "metadata": {},
   "source": [
    "## Create the Keras Classifier"
   ]
  },
  {
   "cell_type": "code",
   "execution_count": null,
   "metadata": {
    "collapsed": true
   },
   "outputs": [],
   "source": [
    "def get_mlp(input_size, \n",
    "            hidden_sizes, \n",
    "            output_size, \n",
    "            amount_dropout, \n",
    "            activation='relu'):\n",
    "    \n",
    "    model = Sequential()\n",
    "    \n",
    "    # Add input to first hidden layer.\n",
    "    model.add(Dense(input_dim=input_size, \n",
    "                    output_dim=hidden_sizes[0],\n",
    "                    activation=activation))\n",
    "    model.add(Dropout(amount_dropout))\n",
    "    \n",
    "    # Loop over rest of hidden layers.\n",
    "    for i in range(1, len(hidden_sizes) - 1):\n",
    "        model.add(Dense(output_dim=hidden_sizes[i],\n",
    "                        activation=activation))\n",
    "        model.add(Dropout(amount_dropout))\n",
    "        \n",
    "    # Add output layer.\n",
    "    model.add(Dense(output_dim=output_size))\n",
    "    return model\n",
    "\n",
    "\n",
    "model = "
   ]
  }
 ],
 "metadata": {
  "kernelspec": {
   "display_name": "Python 3",
   "language": "python",
   "name": "python3"
  },
  "language_info": {
   "codemirror_mode": {
    "name": "ipython",
    "version": 3
   },
   "file_extension": ".py",
   "mimetype": "text/x-python",
   "name": "python",
   "nbconvert_exporter": "python",
   "pygments_lexer": "ipython3",
   "version": "3.5.2"
  }
 },
 "nbformat": 4,
 "nbformat_minor": 2
}
