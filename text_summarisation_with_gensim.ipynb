{
 "cells": [
  {
   "cell_type": "code",
   "execution_count": null,
   "metadata": {
    "collapsed": true
   },
   "outputs": [],
   "source": [
    "!pip install gensim"
   ]
  },
  {
   "cell_type": "code",
   "execution_count": 2,
   "metadata": {},
   "outputs": [
    {
     "ename": "ModuleNotFoundError",
     "evalue": "No module named 'gensim'",
     "output_type": "error",
     "traceback": [
      "\u001b[0;31m---------------------------------------------------------------------------\u001b[0m",
      "\u001b[0;31mModuleNotFoundError\u001b[0m                       Traceback (most recent call last)",
      "\u001b[0;32m<ipython-input-2-4bee10238e23>\u001b[0m in \u001b[0;36m<module>\u001b[0;34m()\u001b[0m\n\u001b[0;32m----> 1\u001b[0;31m \u001b[0;32mfrom\u001b[0m \u001b[0mgensim\u001b[0m\u001b[0;34m.\u001b[0m\u001b[0msummarization\u001b[0m\u001b[0;34m.\u001b[0m\u001b[0msummarizer\u001b[0m \u001b[0;32mimport\u001b[0m \u001b[0msummarize\u001b[0m \u001b[0;32mas\u001b[0m \u001b[0msummarise\u001b[0m\u001b[0;34m\u001b[0m\u001b[0m\n\u001b[0m\u001b[1;32m      2\u001b[0m \u001b[0;32mfrom\u001b[0m \u001b[0mgensim\u001b[0m\u001b[0;34m.\u001b[0m\u001b[0msummarization\u001b[0m \u001b[0;32mimport\u001b[0m \u001b[0mkeywords\u001b[0m\u001b[0;34m\u001b[0m\u001b[0m\n",
      "\u001b[0;31mModuleNotFoundError\u001b[0m: No module named 'gensim'"
     ]
    }
   ],
   "source": [
    "from gensim.summarization.summarizer import summarize as summarise\n",
    "from gensim.summarization import keywords"
   ]
  },
  {
   "cell_type": "code",
   "execution_count": 20,
   "metadata": {
    "collapsed": true
   },
   "outputs": [],
   "source": [
    "lion_king_plot = \\\n",
    "\"\"\"\n",
    "In the Pride Lands of Africa, a lion rules over the animal kingdom from Pride Rock. King Mufasa's newborn son, Simba, is presented to the assembled animals by Rafiki, a mandrill who serves as shaman and advisor. Mufasa shows young Simba the Pride Lands and explains to him the responsibilities of kingship and the \"circle of life\" which connects all living things. Mufasa's younger brother, Scar, covets the throne and plots to eliminate Mufasa and Simba so he may become king. He tricks Simba and his best friend Nala—to whom Simba is betrothed—into exploring a forbidden elephants' graveyard, where they are attacked by three spotted hyenas who are in league with Scar. Mufasa is alerted to the danger by his majordomo, the hornbill Zazu, and rescues the cubs. Though angry with Simba, Mufasa forgives him and explains that the great kings of the past watch over them from the night sky, from which he will one day watch over Simba.\n",
    "Scar sets a trap for his brother and nephew, luring Simba into a gorge and having the hyenas drive a large herd of wildebeest into a stampede that will trample him. He informs Mufasa of Simba's peril, knowing the king will rush to save his son. Mufasa saves Simba but ends up hanging perilously from the gorge's edge and is betrayed by Scar, who sends him falling to his death. Scar convinces Simba that the tragedy was Simba's own fault and advises him to flee the kingdom. He orders the hyenas to kill the cub, but Simba escapes. Scar tells the pride that both Mufasa and Simba were killed in the stampede and steps forward as the new king, allowing a large pack of hyenas to live in the Pride Lands.\n",
    "Simba collapses in a desert and is rescued by Timon and Pumbaa, a meerkat and warthog who are fellow outcasts. Simba grows up in the jungle with his two new friends, living a carefree life under the motto \"hakuna matata\" (\"no worries\" in Swahili). Now a young adult, Simba rescues Timon and Pumbaa from a hungry lioness who turns out to be Nala. She and Simba reunite and fall in love, and she urges him to return home, telling him the Pride Lands have become a drought-stricken wasteland under Scar's reign. Feeling guilty over his father's death, Simba refuses and storms off. He encounters Rafiki, who tells him that Mufasa' spirit lives on in Simba. Simba is visited by the ghost of Mufasa in the night sky, who tells him he must take his rightful place as king. Realizing he can no longer run from his past, Simba decides to return home.\n",
    "Aided by his friends, Simba sneaks past the hyenas at Pride Rock and confronts Scar. Scar taunts him over his role in Mufasa's death and backs him to the edge of the rock, where he reveals to Simba that he murdered Mufasa. Enraged, Simba pins Scar to the ground and forces him to reveal the truth to the rest of the pride. Timon, Pumbaa, Rafiki, Zazu, and the lionesses fend off the hyenas while Scar, attempting to escape, is cornered by Simba at the top of Pride Rock. Scar begs for mercy and attempts to blame the hyenas for his actions; Simba spares his life but orders him to leave the Pride Lands forever. Scar attacks his nephew, but Simba manages to toss him from the top of the rock. Scar survives the fall but is killed by the hyenas, who overheard him betray them to Simba. With his enemies gone, Simba takes over the kingship as the rains begin to fall, restoring life to the land.\n",
    "Later, with Pride Rock restored to its former glory, Rafiki presents Simba and Nala's newborn cub to the assembled animals, continuing the circle of life.\n",
    "\"\"\""
   ]
  },
  {
   "cell_type": "markdown",
   "metadata": {},
   "source": [
    "## Summarising Strings\n",
    "\n",
    "There are a couple of important parameters, ```ratio``` and ```word_count```. Only one is used, otherwise ratio will be ignored. \n",
    "* ```ratio``` is between zero and one, and determines the amount of sentances that summarise the original text in proportion to the original text's size. So 0.5 would return a summary 50% of the original size of the text.\n",
    "* ```word_count``` simply determines the maximum words the output can contain.\n",
    "\n",
    "### Gotchas\n",
    "\n",
    "Be careful not to have any new lines (```'\\n'```) in the middle of sentances. GenSim will treat this as two sentances. "
   ]
  },
  {
   "cell_type": "code",
   "execution_count": 21,
   "metadata": {
    "scrolled": true
   },
   "outputs": [
    {
     "name": "stdout",
     "output_type": "stream",
     "text": [
      "King Mufasa's newborn son, Simba, is presented to the assembled animals by Rafiki, a mandrill who serves as shaman and advisor.\n",
      "Mufasa shows young Simba the Pride Lands and explains to him the responsibilities of kingship and the \"circle of life\" which connects all living things.\n",
      "Mufasa saves Simba but ends up hanging perilously from the gorge's edge and is betrayed by Scar, who sends him falling to his death.\n",
      "Scar tells the pride that both Mufasa and Simba were killed in the stampede and steps forward as the new king, allowing a large pack of hyenas to live in the Pride Lands.\n",
      "Simba is visited by the ghost of Mufasa in the night sky, who tells him he must take his rightful place as king.\n",
      "Aided by his friends, Simba sneaks past the hyenas at Pride Rock and confronts Scar.\n",
      "Timon, Pumbaa, Rafiki, Zazu, and the lionesses fend off the hyenas while Scar, attempting to escape, is cornered by Simba at the top of Pride Rock.\n",
      "Scar begs for mercy and attempts to blame the hyenas for his actions; Simba spares his life but orders him to leave the Pride Lands forever.\n",
      "Later, with Pride Rock restored to its former glory, Rafiki presents Simba and Nala's newborn cub to the assembled animals, continuing the circle of life.\n"
     ]
    }
   ],
   "source": [
    "print(summarise(lion_king_plot, ratio=0.3))"
   ]
  },
  {
   "cell_type": "markdown",
   "metadata": {},
   "source": [
    "## Keyword Extraction\n",
    "\n",
    "The module also supports keyword extraction. Here the agorithm searches for the words that are seemingly most important or representative of the text."
   ]
  },
  {
   "cell_type": "code",
   "execution_count": 27,
   "metadata": {},
   "outputs": [
    {
     "name": "stdout",
     "output_type": "stream",
     "text": [
      "simba\n",
      "scar\n",
      "mufasa\n",
      "king\n",
      "kings\n",
      "rafiki\n",
      "animal\n",
      "animals\n",
      "friend\n",
      "friends\n",
      "home\n",
      "peril\n",
      "perilously\n"
     ]
    }
   ],
   "source": [
    "print(keywords(lion_king_plot, words=10))"
   ]
  }
 ],
 "metadata": {
  "kernelspec": {
   "display_name": "Python 3",
   "language": "python",
   "name": "python3"
  },
  "language_info": {
   "codemirror_mode": {
    "name": "ipython",
    "version": 3
   },
   "file_extension": ".py",
   "mimetype": "text/x-python",
   "name": "python",
   "nbconvert_exporter": "python",
   "pygments_lexer": "ipython3",
   "version": "3.6.3"
  }
 },
 "nbformat": 4,
 "nbformat_minor": 2
}
